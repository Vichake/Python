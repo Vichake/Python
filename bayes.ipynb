{
 "cells": [
  {
   "cell_type": "code",
   "execution_count": 5,
   "id": "7b074e9a-e021-480a-baa1-cfad0867eace",
   "metadata": {
    "scrolled": true
   },
   "outputs": [
    {
     "name": "stdout",
     "output_type": "stream",
     "text": [
      "Buys Computer\n",
      "Yes    0.642857\n",
      "No     0.357143\n",
      "Name: proportion, dtype: float64\n",
      "0.2222222222222222\n",
      "0.6\n",
      "0.4444444444444444\n",
      "0.4\n",
      "0.6666666666666666\n",
      "0.2\n",
      "0.6666666666666666\n",
      "0.4\n",
      "The person will buy a computer.\n"
     ]
    }
   ],
   "source": [
    "import pandas as pd\n",
    "\n",
    "data = {\n",
    "    'Age': ['Young', 'Young', 'Middle-aged', 'Senior', 'Senior', 'Senior', 'Middle-aged', 'Young', 'Young', 'Senior', 'Young', 'Middle-aged', 'Middle-aged', 'Senior'],\n",
    "    'Income': ['High', 'High', 'High', 'Medium', 'Low', 'Low', 'Low', 'Medium', 'Low', 'Medium', 'Medium', 'Medium', 'High', 'Medium'],\n",
    "    'Student': ['No', 'No', 'No', 'No', 'Yes', 'Yes', 'Yes', 'No', 'Yes', 'Yes', 'Yes', 'No', 'Yes', 'No'],\n",
    "    'Credit Rating': ['Fair', 'Excellent', 'Fair', 'Fair', 'Fair', 'Excellent', 'Excellent', 'Fair', 'Fair', 'Fair', 'Excellent', 'Excellent', 'Fair', 'Excellent'],\n",
    "    'Buys Computer': ['No', 'No', 'Yes', 'Yes', 'Yes', 'No', 'Yes', 'No', 'Yes', 'Yes', 'Yes', 'Yes', 'Yes', 'No']\n",
    "}\n",
    "\n",
    "df = pd.DataFrame(data)\n",
    "\n",
    "# Calculate probabilities for 'Buys Computer' classes\n",
    "buy_prob = df['Buys Computer'].value_counts(normalize=True)\n",
    "print(buy_prob)\n",
    "buy_yes, buy_no = buy_prob['Yes'], buy_prob['No']\n",
    "\n",
    "# Helper function to calculate conditional probabilities\n",
    "def calc_prob(feature, value, buy):\n",
    "    print(len(df[(df[feature] == value) & (df['Buys Computer'] == buy)]) / len(df[df['Buys Computer'] == buy]))\n",
    "    return len(df[(df[feature] == value) & (df['Buys Computer'] == buy)]) / len(df[df['Buys Computer'] == buy])\n",
    "\n",
    "# Maximizing probabilities for features\n",
    "age_young_yes = calc_prob('Age', 'Young', 'Yes')\n",
    "age_young_no = calc_prob('Age', 'Young', 'No')\n",
    "\n",
    "income_medium_yes = calc_prob('Income', 'Medium', 'Yes')\n",
    "income_medium_no = calc_prob('Income', 'Medium', 'No')\n",
    "\n",
    "student_yes_yes = calc_prob('Student', 'Yes', 'Yes')\n",
    "student_yes_no = calc_prob('Student', 'Yes', 'No')\n",
    "\n",
    "credit_fair_yes = calc_prob('Credit Rating', 'Fair', 'Yes')\n",
    "credit_fair_no = calc_prob('Credit Rating', 'Fair', 'No')\n",
    "\n",
    "# Final probability calculation\n",
    "prob_buy_yes = age_young_yes * income_medium_yes * student_yes_yes * credit_fair_yes * buy_yes\n",
    "prob_buy_no = age_young_no * income_medium_no * student_yes_no * credit_fair_no * buy_no\n",
    "\n",
    "# Compare probabilities and output the decision\n",
    "if prob_buy_yes > prob_buy_no:\n",
    "    print(\"The person will buy a computer.\")\n",
    "else:\n",
    "    print(\"The person will not buy a computer.\")\n"
   ]
  },
  {
   "cell_type": "code",
   "execution_count": null,
   "id": "3263b8de-40d5-4003-aef7-f6a690d13d1c",
   "metadata": {},
   "outputs": [],
   "source": []
  }
 ],
 "metadata": {
  "kernelspec": {
   "display_name": "Python 3 (ipykernel)",
   "language": "python",
   "name": "python3"
  },
  "language_info": {
   "codemirror_mode": {
    "name": "ipython",
    "version": 3
   },
   "file_extension": ".py",
   "mimetype": "text/x-python",
   "name": "python",
   "nbconvert_exporter": "python",
   "pygments_lexer": "ipython3",
   "version": "3.13.2"
  }
 },
 "nbformat": 4,
 "nbformat_minor": 5
}
