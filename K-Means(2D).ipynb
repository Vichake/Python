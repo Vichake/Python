{
 "cells": [
  {
   "cell_type": "code",
   "execution_count": 27,
   "id": "6ccb0438-fcb6-4e5b-9a93-b8fc601cbd4f",
   "metadata": {},
   "outputs": [],
   "source": [
    "import numpy as np\n"
   ]
  },
  {
   "cell_type": "code",
   "execution_count": 28,
   "id": "bfc0a1b6-395f-4598-81c6-8f403d227f4b",
   "metadata": {},
   "outputs": [
    {
     "name": "stdin",
     "output_type": "stream",
     "text": [
      "Enter the number of data points 4\n",
      "Enter the Data point 0:(x,y) 1 23\n",
      "Enter the Data point 1:(x,y) 12 45\n",
      "Enter the Data point 2:(x,y) 3 7\n",
      "Enter the Data point 3:(x,y) 23 56\n"
     ]
    },
    {
     "name": "stdout",
     "output_type": "stream",
     "text": [
      "[[ 1. 23.]\n",
      " [12. 45.]\n",
      " [ 3.  7.]\n",
      " [23. 56.]]\n"
     ]
    },
    {
     "name": "stdin",
     "output_type": "stream",
     "text": [
      "Enter first cluster centroid 3 7\n",
      "Enter Second cluster centroid 1 23\n"
     ]
    }
   ],
   "source": [
    "n = int(input(\"Enter the number of data points\"))\n",
    "points = []\n",
    "for i in range (n):\n",
    "    x,y = map(float, input(f\"Enter the Data point {i}:(x,y)\").split())\n",
    "    points.append([x,y])\n",
    "data = np.array(points)\n",
    "print(data)\n",
    "c1= list(map(float, input(\"Enter first cluster centroid\").split()))\n",
    "c2= list(map(float, input(\"Enter Second cluster centroid\").split()))\n"
   ]
  },
  {
   "cell_type": "code",
   "execution_count": 29,
   "id": "160ed512-c17b-4241-ab5b-20ce2c23fcad",
   "metadata": {},
   "outputs": [
    {
     "name": "stdout",
     "output_type": "stream",
     "text": [
      "\n",
      "Iteration 1: \n",
      "Cluster1:  [array([3., 7.])]\n",
      "Cluster2:  [array([ 1., 23.]), array([12., 45.]), array([23., 56.])]\n",
      "New Centroid 1 [3. 7.]\n",
      "New Centroid 2 [12.         41.33333333]\n",
      "\n",
      "Iteration 2: \n",
      "Cluster1:  [array([ 1., 23.]), array([3., 7.])]\n",
      "Cluster2:  [array([12., 45.]), array([23., 56.])]\n",
      "New Centroid 1 [ 2. 15.]\n",
      "New Centroid 2 [17.5 50.5]\n",
      "\n",
      "Iteration 3: \n",
      "Cluster1:  [array([ 1., 23.]), array([3., 7.])]\n",
      "Cluster2:  [array([12., 45.]), array([23., 56.])]\n",
      "New Centroid 1 [ 2. 15.]\n",
      "New Centroid 2 [17.5 50.5]\n",
      "\n",
      "Centroid Covered\n"
     ]
    }
   ],
   "source": [
    "def distance(clu, ele):\n",
    "    return np.sqrt((clu[0]-ele[0])**2 + (clu[1]-ele[1])**2 )\n",
    "\n",
    "def cluster(data,c1,c2):\n",
    "    itr=0;\n",
    "    while True:\n",
    "        itr+=1;\n",
    "        cluster1 = []\n",
    "        cluster2 = []\n",
    "        for i in data:\n",
    "            d1 = distance(i,c1)\n",
    "            d2 = distance(i,c2)\n",
    "            if(d1<d2):\n",
    "                cluster1.append(i)\n",
    "            else:\n",
    "                cluster2.append(i)\n",
    "        print(f\"\\nIteration {itr}: \")\n",
    "        print(\"Cluster1: \",cluster1)\n",
    "        print(\"Cluster2: \",cluster2)\n",
    "\n",
    "        \n",
    "        new_c1 = np.mean(cluster1, axis = 0)\n",
    "        new_c2 = np.mean(cluster2, axis = 0)\n",
    "\n",
    "        print(\"New Centroid 1\", new_c1)\n",
    "        print(\"New Centroid 2\", new_c2)\n",
    "\n",
    "        if np.allclose(c1,new_c1) and np.allclose(c2,new_c2):\n",
    "            print(\"\\nCentroid Covered\")\n",
    "            break\n",
    "\n",
    "        c1 = new_c1\n",
    "        c2 = new_c2\n",
    "\n",
    "cluster(data,c1,c2)\n",
    "        \n",
    "        \n",
    "        "
   ]
  },
  {
   "cell_type": "code",
   "execution_count": null,
   "id": "cf9d701c-a3cf-4c74-a489-c81dd9d26842",
   "metadata": {},
   "outputs": [],
   "source": []
  }
 ],
 "metadata": {
  "kernelspec": {
   "display_name": "Python 3 (ipykernel)",
   "language": "python",
   "name": "python3"
  },
  "language_info": {
   "codemirror_mode": {
    "name": "ipython",
    "version": 3
   },
   "file_extension": ".py",
   "mimetype": "text/x-python",
   "name": "python",
   "nbconvert_exporter": "python",
   "pygments_lexer": "ipython3",
   "version": "3.13.2"
  }
 },
 "nbformat": 4,
 "nbformat_minor": 5
}
