{
 "cells": [
  {
   "cell_type": "code",
   "execution_count": null,
   "id": "1a0c4dac-3c76-4f99-adda-739122eb66a1",
   "metadata": {},
   "outputs": [],
   "source": [
    "import numpy as np"
   ]
  },
  {
   "cell_type": "code",
   "execution_count": null,
   "id": "116c42c0-ef28-47a4-acfc-5cb2ac34ec34",
   "metadata": {},
   "outputs": [],
   "source": [
    "data = [1, 2, 3, 10, 11, 12, 25, 26, 27]\n",
    "c1 = 2\n",
    "c2 = 11\n",
    "new_c1 = None\n",
    "new_c2 = None\n"
   ]
  },
  {
   "cell_type": "code",
   "execution_count": 3,
   "id": "18717a3a-ddc1-46dd-8457-0f8b1d259e19",
   "metadata": {},
   "outputs": [
    {
     "name": "stdout",
     "output_type": "stream",
     "text": [
      "\n",
      "Iteration:1\n",
      "Cluster1:  [1, 2, 3]\n",
      "Cluster2:  [10, 11, 12, 25, 26, 27]\n",
      "Mean1:  2.0\n",
      "Mean2:  18.5\n",
      "\n",
      "Iteration:2\n",
      "Cluster1:  [1, 2, 3, 10]\n",
      "Cluster2:  [11, 12, 25, 26, 27]\n",
      "Mean1:  4.0\n",
      "Mean2:  20.2\n",
      "\n",
      "Iteration:3\n",
      "Cluster1:  [1, 2, 3, 10, 11, 12]\n",
      "Cluster2:  [25, 26, 27]\n",
      "Mean1:  6.5\n",
      "Mean2:  26.0\n",
      "\n",
      "Iteration:4\n",
      "Cluster1:  [1, 2, 3, 10, 11, 12]\n",
      "Cluster2:  [25, 26, 27]\n",
      "Mean1:  6.5\n",
      "Mean2:  26.0\n",
      "Cluster is covered\n"
     ]
    }
   ],
   "source": [
    "def cluster(data,c1,c2):\n",
    "    iteration = 0;\n",
    "    while True:\n",
    "        iteration+=1;\n",
    "        k1 = []\n",
    "        k2 = []\n",
    "\n",
    "        for i in data:\n",
    "            if (abs(c1-i)<abs(c2-i)):\n",
    "                k1.append(i)\n",
    "            else:\n",
    "                k2.append(i)\n",
    "\n",
    "        print(f\"\\nIteration:{iteration}\")\n",
    "        print(\"Cluster1: \",k1)\n",
    "        print(\"Cluster2: \",k2)\n",
    "\n",
    "        new_c1 = np.mean(k1)\n",
    "        new_c2 = np.mean(k2)\n",
    "\n",
    "        print(\"Mean1: \",new_c1)\n",
    "        print(\"Mean2: \",new_c2)\n",
    "\n",
    "        if new_c1 == c1 and new_c2 == c2:\n",
    "            print(\"Cluster is covered\")\n",
    "            break\n",
    "\n",
    "        c1,c2= new_c1,new_c2\n",
    "\n",
    "cluster(data,c1,c2)"
   ]
  },
  {
   "cell_type": "code",
   "execution_count": null,
   "id": "530a576f-cae9-4ee4-a684-c81ace47a608",
   "metadata": {},
   "outputs": [],
   "source": []
  }
 ],
 "metadata": {
  "kernelspec": {
   "display_name": "Python 3 (ipykernel)",
   "language": "python",
   "name": "python3"
  },
  "language_info": {
   "codemirror_mode": {
    "name": "ipython",
    "version": 3
   },
   "file_extension": ".py",
   "mimetype": "text/x-python",
   "name": "python",
   "nbconvert_exporter": "python",
   "pygments_lexer": "ipython3",
   "version": "3.13.2"
  }
 },
 "nbformat": 4,
 "nbformat_minor": 5
}
