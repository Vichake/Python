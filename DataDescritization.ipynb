{
 "cells": [
  {
   "cell_type": "code",
   "execution_count": 4,
   "id": "86f68095-5089-448a-ac6d-192a9a19f694",
   "metadata": {},
   "outputs": [
    {
     "name": "stdout",
     "output_type": "stream",
     "text": [
      "Original Values:\n",
      " [12 23 34 45 56 67 78 89 90 12 23 34 45 56 67 78 89 90 12 23]\n",
      "\n",
      "Bin Edges:\n",
      " [12.  31.5 51.  70.5 90. ]\n",
      "\n",
      "Discretized Values (Manual Equal Width Binning):\n",
      " [0 0 1 1 2 2 3 3 3 0 0 1 1 2 2 3 3 3 0 0]\n"
     ]
    },
    {
     "data": {
      "text/plain": [
       "(array([6., 4., 4., 6.]),\n",
       " array([12. , 31.5, 51. , 70.5, 90. ]),\n",
       " <BarContainer object of 4 artists>)"
      ]
     },
     "execution_count": 4,
     "metadata": {},
     "output_type": "execute_result"
    },
    {
     "data": {
      "image/png": "[encoded data removed]",
      "text/plain": [
       "<Figure size 640x480 with 1 Axes>"
      ]
     },
     "metadata": {},
     "output_type": "display_data"
    }
   ],
   "source": [
    "import numpy as np\n",
    "import matplotlib.pyplot as plt\n",
    "\n",
    "# Step 1: Prepare Data\n",
    "values = np.array([12, 23, 34, 45, 56, 67, 78, 89, 90, 12, 23, 34, 45, 56, 67, 78, 89, 90, 12, 23])\n",
    "print(\"Original Values:\\n\", values)\n",
    "\n",
    "# Step 2: Define number of bins and compute edges\n",
    "num_bins = 4\n",
    "bin_edges = np.linspace(values.min(), values.max(), num_bins + 1)\n",
    "print(\"\\nBin Edges:\\n\", bin_edges)\n",
    "\n",
    "# Step 3: Manually assign bin labels\n",
    "discretized = np.zeros(len(values), dtype=int)\n",
    "\n",
    "for i in range(len(values)):\n",
    "    for j in range(num_bins):\n",
    "        if bin_edges[j] <= values[i] < bin_edges[j + 1]:\n",
    "            discretized[i] = j\n",
    "            break\n",
    "    else:\n",
    "        # If value is exactly equal to the max, put it in the last bin\n",
    "        discretized[i] = num_bins - 1\n",
    "\n",
    "print(\"\\nDiscretized Values (Manual Equal Width Binning):\\n\", discretized)\n",
    "\n",
    "# Step 4: Plot histogram with bin edges\n",
    "plt.hist(values, bins=bin_edges, edgecolor='black', alpha=0.7)\n"
   ]
  },
  {
   "cell_type": "code",
   "execution_count": null,
   "id": "f3bce84e-1031-42d2-9284-023675435170",
   "metadata": {},
   "outputs": [],
   "source": []
  },
  {
   "cell_type": "code",
   "execution_count": null,
   "id": "90c133db-6dee-4d89-9d60-b369cb13d976",
   "metadata": {},
   "outputs": [],
   "source": []
  }
 ],
 "metadata": {
  "kernelspec": {
   "display_name": "Python 3 (ipykernel)",
   "language": "python",
   "name": "python3"
  },
  "language_info": {
   "codemirror_mode": {
    "name": "ipython",
    "version": 3
   },
   "file_extension": ".py",
   "mimetype": "text/x-python",
   "name": "python",
   "nbconvert_exporter": "python",
   "pygments_lexer": "ipython3",
   "version": "3.13.2"
  }
 },
 "nbformat": 4,
 "nbformat_minor": 5
}
